{
 "cells": [
  {
   "cell_type": "code",
   "execution_count": 1,
   "metadata": {
    "collapsed": true
   },
   "outputs": [],
   "source": [
    "import numpy as np"
   ]
  },
  {
   "cell_type": "code",
   "execution_count": 2,
   "metadata": {
    "collapsed": true
   },
   "outputs": [],
   "source": [
    "# THE FUNCTION RANDOMLY SHUFFLES THE TRAINING EXAMPLES AND LABELS.\n",
    "\n",
    "def randomShuffle(X,y):\n",
    "    # Input:  Matrix of examples X.\n",
    "    #         Vector of labels y.\n",
    "    # Output: Matrix of examples X randomly shuffled.\n",
    "    #         Vector of labels y randomly shuffled.\n",
    "    \n",
    "    m = np.shape(X)[1]\n",
    "    \n",
    "    permutation = list(np.random.permutation(m))\n",
    "    X = X[:,permutation]\n",
    "    y = y[:,permutation]\n",
    "    \n",
    "    return X, y"
   ]
  },
  {
   "cell_type": "code",
   "execution_count": 3,
   "metadata": {
    "collapsed": true
   },
   "outputs": [],
   "source": [
    "# THE FUNCTION NORMALIZES THE INPUT DATA X.\n",
    "\n",
    "def normInput(X):\n",
    "    # Input:  Matrix of examples X.\n",
    "    # Output: Matrix of examples X normalized.\n",
    "    \n",
    "    X_norm = (X - np.mean(X,axis=1,keepdims=True)) / np.std(X,axis=1,keepdims=True)\n",
    "    \n",
    "    return X_norm"
   ]
  },
  {
   "cell_type": "code",
   "execution_count": 4,
   "metadata": {
    "collapsed": true
   },
   "outputs": [],
   "source": [
    "# THE FUNCTION SPLITS THE INPUT DATA INTO TRAINING, VALIDATION AND TEST DATA.\n",
    "\n",
    "def splitData(X,y,trainProp):\n",
    "    # Input:  Matrix of examples X.\n",
    "    #         Vector of labels y.\n",
    "    # Output: Matrix of training examples X_train and its labels y_train.\n",
    "    #         Matrix of validation examples X_valid and its labels y_valid.\n",
    "    #         Matrix of test examples X_test and its labels y_test.\n",
    "    \n",
    "    trainSize = math.floor(X.shape[1]*trainProp)\n",
    "    X_train = X[:,:trainSize]\n",
    "    y_train = y[:,:trainSize]\n",
    "    \n",
    "    validSize = math.floor((X.shape[1] - trainSize)/2)\n",
    "    X_valid = X[:,trainSize:(trainSize+validSize)]\n",
    "    y_valid = y[:,trainSize:(trainSize+validSize)]\n",
    "    \n",
    "    X_test = X[:,(trainSize+validSize):]\n",
    "    y_test = y[:,(trainSize+validSize):]\n",
    "    \n",
    "    return X_train, y_train, X_valid, y_valid, X_test, y_test"
   ]
  },
  {
   "cell_type": "code",
   "execution_count": 1,
   "metadata": {
    "collapsed": true
   },
   "outputs": [],
   "source": [
    "# THE FUNCTION PRE-PROCESSES THE INPUT DATA.\n",
    "\n",
    "def preProcessing(data,trainProp):\n",
    "    # Input:  Input data.\n",
    "    #         Proportion of the data for training.\n",
    "    # Output: Matrix of training examples X_train and its labels y_train.\n",
    "    #         Matrix of validation examples X_valid and its labels y_valid.\n",
    "    #         Matrix of test examples X_test and its labels y_test.\n",
    "    \n",
    "    labels = [209,241,253,312]\n",
    "    data.drop(labels,axis=0,inplace=True)\n",
    "    data.loc[data['Gender']=='Male','Gender'] = 0\n",
    "    data.loc[data['Gender']=='Female','Gender'] = 1\n",
    "    data.loc[data['Dataset']==2,'Dataset'] = 0\n",
    "    \n",
    "    X = data.drop('Dataset',axis=1)\n",
    "    y = data['Dataset'][:]\n",
    "    \n",
    "    X = np.array(X[:][:],dtype=np.float64)\n",
    "    y = np.array(y[:][:],dtype=np.float64)\n",
    "    \n",
    "    X, y = X.T, y.reshape(1,y.shape[0])    \n",
    "    X_norm = normInput(X)\n",
    "    \n",
    "    X_shuf, y_shuf = randomShuffle(X_norm,y)    \n",
    "    X_train, y_train, X_valid, y_valid, X_test, y_test = splitData(X_shuf,y_shuf,trainProp)\n",
    "    \n",
    "    return X_train, y_train, X_valid, y_valid, X_test, y_test"
   ]
  },
  {
   "cell_type": "code",
   "execution_count": null,
   "metadata": {
    "collapsed": true
   },
   "outputs": [],
   "source": []
  },
  {
   "cell_type": "code",
   "execution_count": null,
   "metadata": {
    "collapsed": true
   },
   "outputs": [],
   "source": []
  }
 ],
 "metadata": {
  "kernelspec": {
   "display_name": "Python 3",
   "language": "python",
   "name": "python3"
  },
  "language_info": {
   "codemirror_mode": {
    "name": "ipython",
    "version": 3
   },
   "file_extension": ".py",
   "mimetype": "text/x-python",
   "name": "python",
   "nbconvert_exporter": "python",
   "pygments_lexer": "ipython3",
   "version": "3.6.3"
  }
 },
 "nbformat": 4,
 "nbformat_minor": 2
}
