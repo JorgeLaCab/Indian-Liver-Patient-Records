{
 "cells": [
  {
   "cell_type": "code",
   "execution_count": 1,
   "metadata": {
    "collapsed": true
   },
   "outputs": [],
   "source": [
    "import math\n",
    "import pandas as pd\n",
    "import numpy as np\n",
    "import matplotlib.pyplot as plt\n",
    "import seaborn as sns\n",
    "%matplotlib inline\n",
    "\n",
    "%run IndianLiverPatientData.ipynb\n",
    "%run KNN.ipynb\n",
    "%run LogReg.ipynb\n",
    "%run LDAQDA.ipynb\n",
    "\n",
    "from sklearn.metrics import accuracy_score\n",
    "from sklearn.model_selection import train_test_split\n",
    "from sklearn.metrics import classification_report,confusion_matrix\n",
    "from sklearn import linear_model\n",
    "from sklearn.linear_model import LogisticRegression\n",
    "from sklearn.svm import SVC, LinearSVC\n",
    "from sklearn.ensemble import RandomForestClassifier, AdaBoostClassifier, BaggingClassifier\n",
    "from sklearn.neighbors import KNeighborsClassifier\n",
    "from sklearn.naive_bayes import GaussianNB\n",
    "from sklearn.linear_model import Perceptron\n",
    "from sklearn.linear_model import SGDClassifier\n",
    "from sklearn.tree import DecisionTreeClassifier\n",
    "from sklearn.neural_network import MLPClassifier\n",
    "from sklearn.discriminant_analysis import LinearDiscriminantAnalysis\n",
    "from sklearn.discriminant_analysis import QuadraticDiscriminantAnalysis"
   ]
  },
  {
   "cell_type": "code",
   "execution_count": 2,
   "metadata": {
    "collapsed": true
   },
   "outputs": [],
   "source": [
    "data = pd.read_csv('indian-liver-patient-records/data.csv')\n",
    "X_train, y_train, X_valid, y_valid, X_test, y_test = preProcessing(data,trainProp=.7)\n",
    "y_train2 = y_train[0,:].T\n",
    "X_train2 = X_train.T\n",
    "X_valid2 = X_valid.T\n",
    "y_valid2 = y_valid[0,:].T"
   ]
  },
  {
   "cell_type": "code",
   "execution_count": null,
   "metadata": {
    "collapsed": true
   },
   "outputs": [],
   "source": []
  },
  {
   "cell_type": "code",
   "execution_count": 26,
   "metadata": {},
   "outputs": [
    {
     "name": "stdout",
     "output_type": "stream",
     "text": [
      "KNN Score: \n",
      " 72.84\n",
      "KNN Validation Score: \n",
      " 67.82\n",
      "Accuracy: \n",
      " 0.67816091954\n"
     ]
    }
   ],
   "source": [
    "knn = KNeighborsClassifier(n_neighbors = 390)\n",
    "knn.fit(X_train2,y_train2)\n",
    "\n",
    "#Predict Output\n",
    "knn_predicted =  knn.predict(X_valid2)\n",
    "knn_score = round(knn.score(X_train2,y_train2)*100,2)\n",
    "knn_score_valid = round(knn.score(X_valid2,y_valid2)*100, 2)\n",
    "print('KNN Score: \\n', knn_score)\n",
    "print('KNN Validation Score: \\n', knn_score_valid)\n",
    "print('Accuracy: \\n', accuracy_score(y_valid2,knn_predicted))\n",
    "#print(confusion_matrix(y_valid2,knn_predicted))\n",
    "#print(classification_report(y_valid2,knn_predicted))"
   ]
  },
  {
   "cell_type": "code",
   "execution_count": 27,
   "metadata": {},
   "outputs": [
    {
     "name": "stdout",
     "output_type": "stream",
     "text": [
      "Accuracy for the validation set is 67.82 %\n"
     ]
    }
   ],
   "source": [
    "y_predicted = KNNModel(X_train,y_train,X_valid,K=500,distance=\"Euclidean\")\n",
    "(Precision,Recall,F1,Accuracy) = evalModelKNN(y_predicted,y_valid)\n",
    "\n",
    "print(\"Accuracy for the validation set is {} %\".format(Accuracy))"
   ]
  },
  {
   "cell_type": "code",
   "execution_count": null,
   "metadata": {
    "collapsed": true
   },
   "outputs": [],
   "source": []
  },
  {
   "cell_type": "code",
   "execution_count": 11,
   "metadata": {},
   "outputs": [
    {
     "name": "stdout",
     "output_type": "stream",
     "text": [
      "Logistic Regression Training Score: \n",
      " 71.85\n",
      "Accuracy: \n",
      " 0.701149425287\n"
     ]
    }
   ],
   "source": [
    "# Create logistic regression object\n",
    "logreg = LogisticRegression()\n",
    "# Train the model using the training sets and check score\n",
    "logreg.fit(X_train2,y_train2)\n",
    "#Predict Output\n",
    "log_predicted= logreg.predict(X_valid2)\n",
    "\n",
    "logreg_score = round(logreg.score(X_train2,y_train2)*100,2)\n",
    "logreg_score_test = round(logreg.score(X_valid2,y_valid2)*100,2)\n",
    "#Equation coefficient and Intercept\n",
    "print('Logistic Regression Training Score: \\n',logreg_score)\n",
    "#print('Logistic Regression Test Score: \\n',logreg_score_test)\n",
    "#print('Coefficient: \\n',logreg.coef_)\n",
    "#print('Intercept: \\n',logreg.intercept_)\n",
    "print('Accuracy: \\n',accuracy_score(y_valid2,log_predicted))"
   ]
  },
  {
   "cell_type": "code",
   "execution_count": 12,
   "metadata": {},
   "outputs": [
    {
     "name": "stdout",
     "output_type": "stream",
     "text": [
      "Accuracy for the training set is 70.11%\n"
     ]
    }
   ],
   "source": [
    "w, b, costs = gradientDescentLogReg(X_train,y_train,0.1,1000,regu=0,lambd=0.5)\n",
    "y_predict_valid = classificatorLogReg(X_valid,w,b)\n",
    "print(\"Accuracy for the training set is {}%\".format(np.round(100-np.mean(np.abs(y_predict_valid-y_valid))*100,decimals=2)))"
   ]
  },
  {
   "cell_type": "code",
   "execution_count": null,
   "metadata": {
    "collapsed": true
   },
   "outputs": [],
   "source": []
  },
  {
   "cell_type": "code",
   "execution_count": 13,
   "metadata": {},
   "outputs": [
    {
     "name": "stdout",
     "output_type": "stream",
     "text": [
      "Accuracy: \n",
      " 0.689655172414\n"
     ]
    }
   ],
   "source": [
    "clf = LinearDiscriminantAnalysis()\n",
    "clf.fit(X_train2,y_train2)\n",
    "print('Accuracy: \\n',accuracy_score(y_valid2,clf.predict(X_valid2)))"
   ]
  },
  {
   "cell_type": "code",
   "execution_count": 14,
   "metadata": {},
   "outputs": [
    {
     "name": "stdout",
     "output_type": "stream",
     "text": [
      "Accuracy for the training set is 68.97%\n"
     ]
    }
   ],
   "source": [
    "estimations = ldaEstimation(X_train,y_train,K=2)\n",
    "y_predict = classificatorLDA(X_valid,estimations,K=2)\n",
    "print(\"Accuracy for the training set is {}%\".format(np.round(100-np.mean(np.abs(y_predict-y_valid))*100,decimals=2)))"
   ]
  },
  {
   "cell_type": "code",
   "execution_count": 15,
   "metadata": {},
   "outputs": [
    {
     "name": "stdout",
     "output_type": "stream",
     "text": [
      "Accuracy: \n",
      " 0.597701149425\n"
     ]
    }
   ],
   "source": [
    "clf = QuadraticDiscriminantAnalysis()\n",
    "clf.fit(X_train2,y_train2)\n",
    "print('Accuracy: \\n',accuracy_score(y_valid2,clf.predict(X_valid2)))"
   ]
  },
  {
   "cell_type": "code",
   "execution_count": 16,
   "metadata": {},
   "outputs": [
    {
     "name": "stdout",
     "output_type": "stream",
     "text": [
      "Accuracy for the training set is 59.77%\n"
     ]
    }
   ],
   "source": [
    "estimations = qdaEstimation(X_train,y_train,K=2)\n",
    "y_predict = classificatorQDA(X_valid,estimations,K=2)\n",
    "print(\"Accuracy for the training set is {}%\".format(np.round(100-np.mean(np.abs(y_predict-y_valid))*100,decimals=2)))"
   ]
  },
  {
   "cell_type": "code",
   "execution_count": null,
   "metadata": {
    "collapsed": true
   },
   "outputs": [],
   "source": []
  }
 ],
 "metadata": {
  "kernelspec": {
   "display_name": "Python 3",
   "language": "python",
   "name": "python3"
  },
  "language_info": {
   "codemirror_mode": {
    "name": "ipython",
    "version": 3
   },
   "file_extension": ".py",
   "mimetype": "text/x-python",
   "name": "python",
   "nbconvert_exporter": "python",
   "pygments_lexer": "ipython3",
   "version": "3.6.3"
  }
 },
 "nbformat": 4,
 "nbformat_minor": 2
}
