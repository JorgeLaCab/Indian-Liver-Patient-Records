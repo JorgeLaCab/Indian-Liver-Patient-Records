{
 "cells": [
  {
   "cell_type": "code",
   "execution_count": 1,
   "metadata": {
    "collapsed": true
   },
   "outputs": [],
   "source": [
    "import numpy as np"
   ]
  },
  {
   "cell_type": "code",
   "execution_count": 2,
   "metadata": {
    "collapsed": true
   },
   "outputs": [],
   "source": [
    "# THE FUNCTION CALCULATES THE EUCLIDEAN DISTANCE BETWEEN TWO N-DIMENSIONAL POINTS.\n",
    "\n",
    "def Euclideandistance(x_1,x_2):\n",
    "    # Input:  Vector n-dimensional x_1.\n",
    "    #         Vector n-dimensional x_2.\n",
    "    # Output: Euclidean distance between input points x_1 and x_2.\n",
    "    \n",
    "    distance = np.sqrt(np.sum(np.square(x_1-x_2)))\n",
    "    \n",
    "    return distance"
   ]
  },
  {
   "cell_type": "code",
   "execution_count": 3,
   "metadata": {
    "collapsed": true
   },
   "outputs": [],
   "source": [
    "# THE FUNCTION CALCULATES THE MANHATTAN DISTANCE BETWEEN TWO N-DIMENSIONAL POINTS.\n",
    "\n",
    "def Manhattandistance(x_1,x_2):\n",
    "    # Input:  Vector n-dimensional x_1.\n",
    "    #         Vector n-dimensional x_2.\n",
    "    # Output: Manhattan distance between input points x_1 and x_2.\n",
    "    \n",
    "    distance = np.sum(np.absolute(x_1-x_2))\n",
    "    \n",
    "    return distance"
   ]
  },
  {
   "cell_type": "code",
   "execution_count": 4,
   "metadata": {
    "collapsed": true
   },
   "outputs": [],
   "source": [
    "# THE FUNCTION CALCULATES THE MINKOWSKI DISTANCE BETWEEN TWO N-DIMENSIONAL POINTS.\n",
    "\n",
    "def Minkowskidistance(x_1,x_2,p):\n",
    "    # Input:  Vector n-dimensional x_1.\n",
    "    #         Vector n-dimensional x_2.\n",
    "    # Output: Minkowski distance between input points x_1 and x_2.\n",
    "    \n",
    "    distance = np.power(np.sum(np.power(np.absolute(x_1-x_2),p)),(1/p))\n",
    "    \n",
    "    return distance"
   ]
  },
  {
   "cell_type": "code",
   "execution_count": 5,
   "metadata": {
    "collapsed": true
   },
   "outputs": [],
   "source": [
    "# THE FUNCTION CALCULATES THE HAMMING DISTANCE BETWEEN TWO N-DIMENSIONAL POINTS.\n",
    "\n",
    "def Hammingdistance(x_1,x_2):\n",
    "    # Input:  Vector n-dimensional x_1.\n",
    "    #         Vector n-dimensional x_2.\n",
    "    # Output: Hamming distance between input points x_1 and x_2.\n",
    "    \n",
    "    distance = np.sum([x_1!=x_2])\n",
    "    \n",
    "    return distance"
   ]
  },
  {
   "cell_type": "code",
   "execution_count": 6,
   "metadata": {
    "collapsed": true
   },
   "outputs": [],
   "source": [
    "# THE FUNCTION CALCULATES THE JACCARD DISTANCE BETWEEN TWO N-DIMENSIONAL POINTS.\n",
    "\n",
    "def Jaccarddistance(x_1,x_2):\n",
    "    # Input:  Vector n-dimensional x_1.\n",
    "    #         Vector n-dimensional x_2.\n",
    "    # Output: Jaccard distance between input points x_1 and x_2.\n",
    "    \n",
    "    distance = 1 - (len(np.intersect1d(x_1,x_2))/len(np.union1d(x_1,x_2)))\n",
    "    \n",
    "    return distance"
   ]
  },
  {
   "cell_type": "code",
   "execution_count": 7,
   "metadata": {
    "collapsed": true
   },
   "outputs": [],
   "source": [
    "# THE FUNCTION CALCULATES THE COSINE DISTANCE BETWEEN TWO N-DIMENSIONAL POINTS.\n",
    "\n",
    "def Cosinedistance(x_1,x_2):\n",
    "    # Input:  Vector n-dimensional x_1.\n",
    "    #         Vector n-dimensional x_2.\n",
    "    # Output: Cosine distance between input points x_1 and x_2.\n",
    "    \n",
    "    distance = 1 - ((np.sum(np.multiply(x_1,x_2)))/(np.sqrt(np.sum(np.square(x_1)))*np.sqrt(np.sum(np.square(x_2)))))\n",
    "    \n",
    "    return distance"
   ]
  },
  {
   "cell_type": "code",
   "execution_count": 8,
   "metadata": {
    "collapsed": true
   },
   "outputs": [],
   "source": [
    "# THE FUNCTION COMPUTES THE DISTANCES BETWEEN A TEST EXAMPLE AND THE ENTIRE TRAINING SET.\n",
    "\n",
    "def distancesCalculator(x_test,X_train,distance):\n",
    "    # Input:  Single test example x_test.\n",
    "    #         Matrix of the entire training set X_train.\n",
    "    # Output: List of distances between the test example x_test and the entire training set X_train.\n",
    "    \n",
    "    distances = []\n",
    "    \n",
    "    for j in range(X_train.shape[1]):\n",
    "        x_train = X_train[:,j]\n",
    "        \n",
    "        if distance == \"Euclidean\":\n",
    "            dist = Euclideandistance(x_test,x_train)\n",
    "        elif distance == \"Manhattan\":\n",
    "            dist = Manhattandistance(x_test,x_train)\n",
    "        elif distance == \"Minkowski\":\n",
    "            dist = Minkowskidistance(x_test,x_train,p=3)\n",
    "        elif distance == \"Hamming\":\n",
    "            dist = Hammingdistance(x_test,x_train)\n",
    "        elif distance == \"Jaccard\":\n",
    "            dist = Jaccarddistance(x_test,x_train)\n",
    "        elif distance == \"Cosine\":\n",
    "            dist = Cosinedistance(x_test,x_train)\n",
    "        \n",
    "        distances.append(dist)\n",
    "    \n",
    "    return distances"
   ]
  },
  {
   "cell_type": "code",
   "execution_count": 9,
   "metadata": {
    "collapsed": true
   },
   "outputs": [],
   "source": [
    "# GIVEN THE DISTANCES BETWEEN A TEST EXAMPLE AND THE TRAINING EXAMPLE, THE FUNCTIONS ESTIMATES ITS LABEL.\n",
    "\n",
    "def labelEstimator(distances,X_train,y_train,K):\n",
    "    # Input:  List of distances between one test example and the entire training set X_train.\n",
    "    #         Matrix of the entire training set X_train.\n",
    "    #         Vector of labels for the training set y_train.\n",
    "    #         Hyper-parameter K.\n",
    "    # Output: Estimated label for one test example.\n",
    "    \n",
    "    tmp_1 = np.concatenate((y_train,X_train,np.array([distances])),axis=0)\n",
    "    tmp_sorted = tmp_1[:,tmp_1[-1,:].argsort()]\n",
    "    candidates = np.array(tmp_sorted[0,0:K])\n",
    "    (values,counts) = np.unique(candidates,return_counts=True)\n",
    "    label = values[counts.argmax()]\n",
    "    \n",
    "    return label"
   ]
  },
  {
   "cell_type": "code",
   "execution_count": 10,
   "metadata": {
    "collapsed": true
   },
   "outputs": [],
   "source": [
    "# THE FUNCTION CLASSIFIES THE TEST/VALIDATION EXAMPLES.\n",
    "\n",
    "def KNNModel(X_train,y_train,X_test,K=3,distance=\"Euclidean\"):\n",
    "    # Input:  Matrix of the entire training set X_train.\n",
    "    #         Vector of labels for the training set y_train.\n",
    "    #         Matrix of the entire test set X_test.\n",
    "    #         Hyper-parameter K.\n",
    "    #         Type of distance which will be used for the K-NN algorithm.\n",
    "    # Output: Vector of KNN predicted labels y.\n",
    "    \n",
    "    y_predict = []\n",
    "    \n",
    "    for i in range(X_test.shape[1]):\n",
    "        x_test = X_test[:,i]\n",
    "        distances = distancesCalculator(x_test,X_train,distance)\n",
    "        label = labelEstimator(distances,X_train,y_train,K)\n",
    "        y_predict.append(int(label))\n",
    "    \n",
    "    return y_predict"
   ]
  },
  {
   "cell_type": "code",
   "execution_count": 11,
   "metadata": {
    "collapsed": true
   },
   "outputs": [],
   "source": [
    "# THE FUNCTION GIVES DIFFERENT EVALUATION METRICS.\n",
    "\n",
    "def evalModelKNN(y_predicted,y_gt):\n",
    "    # Input:  Vector of Logistic Regression labels Y predicted.\n",
    "    #         Vector of labels Y.\n",
    "    # Output: Precision of the results.\n",
    "    #         Recall of the results.\n",
    "    #         F1 of the results.\n",
    "    #         Accuracy of the results.\n",
    "    \n",
    "    TP = (y_predicted * y_gt == 1).sum()\n",
    "    FP = (y_predicted - y_gt == 1).sum()\n",
    "    TN = (y_predicted + y_gt == 0).sum()\n",
    "    FN = (y_predicted - y_gt == -1).sum()\n",
    "    \n",
    "    Precision = np.round((TP/(TP+FP))*100,decimals=2)\n",
    "    Recall = np.round((TP/(TP+FN))*100,decimals=2)\n",
    "    F1 = np.round(2/((1/Precision)+(1/Recall)),decimals=2)\n",
    "    Accuracy = np.round(((TP+TN)/(TP+TN+FP+FN))*100,decimals=2)\n",
    "    \n",
    "    return Precision, Recall, F1, Accuracy"
   ]
  },
  {
   "cell_type": "code",
   "execution_count": null,
   "metadata": {
    "collapsed": true
   },
   "outputs": [],
   "source": []
  },
  {
   "cell_type": "code",
   "execution_count": null,
   "metadata": {
    "collapsed": true
   },
   "outputs": [],
   "source": []
  }
 ],
 "metadata": {
  "kernelspec": {
   "display_name": "Python 3",
   "language": "python",
   "name": "python3"
  },
  "language_info": {
   "codemirror_mode": {
    "name": "ipython",
    "version": 3
   },
   "file_extension": ".py",
   "mimetype": "text/x-python",
   "name": "python",
   "nbconvert_exporter": "python",
   "pygments_lexer": "ipython3",
   "version": "3.6.3"
  }
 },
 "nbformat": 4,
 "nbformat_minor": 2
}
